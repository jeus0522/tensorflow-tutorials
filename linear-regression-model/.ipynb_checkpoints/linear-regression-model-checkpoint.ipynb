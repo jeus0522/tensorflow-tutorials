{
 "cells": [
  {
   "cell_type": "markdown",
   "metadata": {},
   "source": [
    "# Linear regression model in TensorFlow\n",
    "This document builds and train a linear regression model, while trying to show the basic usage of TensorFlow"
   ]
  },
  {
   "cell_type": "code",
   "execution_count": 1,
   "metadata": {
    "collapsed": true
   },
   "outputs": [],
   "source": [
    "import tensorflow as tf"
   ]
  },
  {
   "cell_type": "markdown",
   "metadata": {},
   "source": [
    "### Create placeholders for inputs and labels"
   ]
  },
  {
   "cell_type": "code",
   "execution_count": 2,
   "metadata": {
    "collapsed": false
   },
   "outputs": [],
   "source": [
    "# Inputs\n",
    "x = tf.placeholder(dtype=tf.float32, name=\"inputs\")\n",
    "# Labels\n",
    "y = tf.placeholder(dtype=tf.float32, name=\"labels\")"
   ]
  },
  {
   "cell_type": "markdown",
   "metadata": {},
   "source": [
    "### Create Variable tensors for weights and bias\n",
    "This tensors are initialized with random values"
   ]
  },
  {
   "cell_type": "code",
   "execution_count": 3,
   "metadata": {
    "collapsed": true
   },
   "outputs": [],
   "source": [
    "w = tf.Variable(tf.random_normal([1]), dtype=tf.float32, name=\"weigth\")\n",
    "b = tf.Variable(tf.random_normal([1]), dtype=tf.float32, name=\"bias\")\n",
    "init = tf.global_variables_initializer()"
   ]
  },
  {
   "cell_type": "markdown",
   "metadata": {},
   "source": [
    "### Building the model and cost function"
   ]
  },
  {
   "cell_type": "code",
   "execution_count": 4,
   "metadata": {
    "collapsed": true
   },
   "outputs": [],
   "source": [
    "linear_model = w * x + b\n",
    "cost = tf.reduce_sum(tf.square(linear_model - y), name=\"cost\")"
   ]
  },
  {
   "cell_type": "markdown",
   "metadata": {},
   "source": [
    "### Optimizer"
   ]
  },
  {
   "cell_type": "code",
   "execution_count": 5,
   "metadata": {
    "collapsed": true
   },
   "outputs": [],
   "source": [
    "optimizer = tf.train.GradientDescentOptimizer(0.01)\n",
    "train = optimizer.minimize(cost)"
   ]
  },
  {
   "cell_type": "code",
   "execution_count": 6,
   "metadata": {
    "collapsed": true
   },
   "outputs": [],
   "source": [
    "x_train = [1, 2, 3, 4]\n",
    "y_train = [0, -1, -2, -3]"
   ]
  },
  {
   "cell_type": "code",
   "execution_count": 7,
   "metadata": {
    "collapsed": false
   },
   "outputs": [
    {
     "name": "stdout",
     "output_type": "stream",
     "text": [
      "Current w: [-1.19881952] Current b: [ 0.59633887] Current cost: 3.44276\n",
      "Current w: [-0.91949254] Current b: [ 0.76329827] Current cost: 0.0374293\n",
      "Current w: [-0.93673128] Current b: [ 0.81398213] Current cost: 0.0231163\n",
      "Current w: [-0.95027864] Current b: [ 0.85381317] Current cost: 0.0142766\n",
      "Current w: [-0.96092528] Current b: [ 0.8851155] Current cost: 0.0088172\n",
      "Current w: [-0.96929216] Current b: [ 0.90971512] Current cost: 0.00544551\n",
      "Current w: [-0.97586745] Current b: [ 0.92904735] Current cost: 0.00336315\n",
      "Current w: [-0.98103482] Current b: [ 0.94424015] Current cost: 0.00207707\n",
      "Current w: [-0.98509574] Current b: [ 0.95617968] Current cost: 0.0012828\n",
      "Current w: [-0.98828715] Current b: [ 0.96556282] Current cost: 0.000792253\n",
      "Current w: [-0.99079514] Current b: [ 0.97293669] Current cost: 0.000489295\n",
      "Current w: [-0.99276614] Current b: [ 0.97873151] Current cost: 0.000302193\n",
      "Current w: [-0.99431509] Current b: [ 0.98328573] Current cost: 0.00018663\n",
      "Current w: [-0.99553239] Current b: [ 0.98686463] Current cost: 0.000115264\n",
      "Current w: [-0.99648899] Current b: [ 0.98967725] Current cost: 7.1186e-05\n",
      "Current w: [-0.99724078] Current b: [ 0.99188763] Current cost: 4.39647e-05\n",
      "Current w: [-0.99783158] Current b: [ 0.99362457] Current cost: 2.71541e-05\n",
      "Current w: [-0.9982959] Current b: [ 0.99498969] Current cost: 1.67701e-05\n",
      "Current w: [-0.9986608] Current b: [ 0.99606252] Current cost: 1.03572e-05\n",
      "Current w: [-0.99894756] Current b: [ 0.99690562] Current cost: 6.39639e-06\n",
      "Current w: [-0.99917293] Current b: [ 0.99756831] Current cost: 3.95028e-06\n",
      "Current w: [-0.99935007] Current b: [ 0.99808913] Current cost: 2.43931e-06\n",
      "Current w: [-0.99948919] Current b: [ 0.99849814] Current cost: 1.50685e-06\n",
      "Current w: [-0.99959862] Current b: [ 0.99881977] Current cost: 9.30538e-07\n",
      "Current w: [-0.99968451] Current b: [ 0.99907249] Current cost: 5.74791e-07\n",
      "Current w: [-0.99975204] Current b: [ 0.99927098] Current cost: 3.55047e-07\n",
      "Current w: [-0.99980515] Current b: [ 0.99942708] Current cost: 2.19276e-07\n",
      "Current w: [-0.99984688] Current b: [ 0.99954981] Current cost: 1.35436e-07\n",
      "Current w: [-0.99987966] Current b: [ 0.99964613] Current cost: 8.36832e-08\n",
      "Current w: [-0.99990541] Current b: [ 0.99972194] Current cost: 5.1675e-08\n",
      "Current w: [-0.99992567] Current b: [ 0.99978149] Current cost: 3.18786e-08\n",
      "Current w: [-0.99994159] Current b: [ 0.99982822] Current cost: 1.9727e-08\n",
      "Current w: [-0.9999541] Current b: [ 0.999865] Current cost: 1.21764e-08\n",
      "Current w: [-0.99996394] Current b: [ 0.9998939] Current cost: 7.51904e-09\n",
      "Current w: [-0.99997163] Current b: [ 0.99991655] Current cost: 4.6515e-09\n",
      "Current w: [-0.99997771] Current b: [ 0.99993443] Current cost: 2.87129e-09\n",
      "Current w: [-0.99998248] Current b: [ 0.9999485] Current cost: 1.77165e-09\n",
      "Current w: [-0.99998623] Current b: [ 0.99995953] Current cost: 1.09083e-09\n",
      "Current w: [-0.99998921] Current b: [ 0.99996823] Current cost: 6.76778e-10\n",
      "Current w: [-0.99999154] Current b: [ 0.99997497] Current cost: 4.18154e-10\n",
      "Current w: [-0.99999332] Current b: [ 0.99998033] Current cost: 2.60044e-10\n",
      "Current w: [-0.99999475] Current b: [ 0.99998456] Current cost: 1.5908e-10\n",
      "Current w: [-0.99999595] Current b: [ 0.99998802] Current cost: 9.587e-11\n",
      "Current w: [-0.99999672] Current b: [ 0.99999046] Current cost: 6.08971e-11\n",
      "Current w: [-0.99999756] Current b: [ 0.99999267] Current cost: 3.52571e-11\n",
      "Current w: [-0.99999797] Current b: [ 0.99999404] Current cost: 2.37748e-11\n",
      "Current w: [-0.99999839] Current b: [ 0.99999523] Current cost: 1.51665e-11\n",
      "Current w: [-0.99999881] Current b: [ 0.99999642] Current cost: 8.52651e-12\n",
      "Current w: [-0.99999911] Current b: [ 0.99999744] Current cost: 4.20641e-12\n",
      "Current w: [-0.99999911] Current b: [ 0.99999744] Current cost: 4.20641e-12\n"
     ]
    }
   ],
   "source": [
    "with tf.Session() as sess:\n",
    "    writer = tf.summary.FileWriter(\"/summaries/1\")\n",
    "    writer.add_graph(sess.graph)\n",
    "    sess.run(init)\n",
    "    for i in range(1000):\n",
    "        sess.run(train, {x: x_train, y: y_train})\n",
    "        \n",
    "        if i%20 == 0:\n",
    "            partial_w, partial_b, partial_cost = sess.run([w, b, cost], {x: x_train, y: y_train})\n",
    "            print(\"Current w: %s Current b: %s Current cost: %s\"%(partial_w, partial_b, partial_cost))\n",
    "        \n",
    "    final_w, final_b, final_cost = sess.run([w, b, cost], {x: x_train, y: y_train})\n",
    "    "
   ]
  },
  {
   "cell_type": "markdown",
   "metadata": {
    "collapsed": true
   },
   "source": [
    "### Final model"
   ]
  },
  {
   "cell_type": "code",
   "execution_count": 8,
   "metadata": {
    "collapsed": false
   },
   "outputs": [
    {
     "name": "stdout",
     "output_type": "stream",
     "text": [
      "Regression model: Y = [-0.99999911] * X + [ 0.99999744]\n",
      "Final cost: 4.20641e-12\n"
     ]
    }
   ],
   "source": [
    "print(\"Regression model: Y = %s * X + %s\"%(final_w, final_b))\n",
    "print(\"Final cost: %s\"%final_cost)"
   ]
  },
  {
   "cell_type": "markdown",
   "metadata": {},
   "source": [
    "### TensorBoard - Graph visualization\n",
    "![title](graph.png)"
   ]
  }
 ],
 "metadata": {
  "kernelspec": {
   "display_name": "Python 3",
   "language": "python",
   "name": "python3"
  },
  "language_info": {
   "codemirror_mode": {
    "name": "ipython",
    "version": 3
   },
   "file_extension": ".py",
   "mimetype": "text/x-python",
   "name": "python",
   "nbconvert_exporter": "python",
   "pygments_lexer": "ipython3",
   "version": "3.5.3"
  }
 },
 "nbformat": 4,
 "nbformat_minor": 2
}
