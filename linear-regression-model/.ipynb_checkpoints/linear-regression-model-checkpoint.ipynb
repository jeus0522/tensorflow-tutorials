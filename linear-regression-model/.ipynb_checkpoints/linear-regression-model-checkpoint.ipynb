{
 "cells": [
  {
   "cell_type": "markdown",
   "metadata": {
    "deletable": true,
    "editable": true
   },
   "source": [
    "# Linear regression model in TensorFlow\n",
    "This document builds and train a linear regression model, while trying to show the basic usage of TensorFlow"
   ]
  },
  {
   "cell_type": "code",
   "execution_count": 1,
   "metadata": {
    "collapsed": true,
    "deletable": true,
    "editable": true
   },
   "outputs": [],
   "source": [
    "import tensorflow as tf"
   ]
  },
  {
   "cell_type": "markdown",
   "metadata": {
    "deletable": true,
    "editable": true
   },
   "source": [
    "### Create placeholders for inputs and labels"
   ]
  },
  {
   "cell_type": "code",
   "execution_count": 2,
   "metadata": {
    "collapsed": false,
    "deletable": true,
    "editable": true
   },
   "outputs": [],
   "source": [
    "# Inputs\n",
    "x = tf.placeholder(dtype=tf.float32, name=\"inputs\")\n",
    "# Labels\n",
    "y = tf.placeholder(dtype=tf.float32, name=\"labels\")"
   ]
  },
  {
   "cell_type": "markdown",
   "metadata": {
    "deletable": true,
    "editable": true
   },
   "source": [
    "### Create Variable tensors for weights and bias\n",
    "This tensors are initialized with random values"
   ]
  },
  {
   "cell_type": "code",
   "execution_count": 3,
   "metadata": {
    "collapsed": true,
    "deletable": true,
    "editable": true
   },
   "outputs": [],
   "source": [
    "w = tf.Variable(tf.random_normal([1]), dtype=tf.float32, name=\"weight\")\n",
    "b = tf.Variable(tf.random_normal([1]), dtype=tf.float32, name=\"bias\")\n",
    "\n",
    "def linear_layer(x, w, b):\n",
    "    \n",
    "    return w * x + b\n",
    "\n",
    "init = tf.global_variables_initializer()"
   ]
  },
  {
   "cell_type": "markdown",
   "metadata": {
    "deletable": true,
    "editable": true
   },
   "source": [
    "### Building the model"
   ]
  },
  {
   "cell_type": "code",
   "execution_count": null,
   "metadata": {
    "collapsed": true,
    "deletable": true,
    "editable": true
   },
   "outputs": [],
   "source": [
    "output = linear_layer(x, w, b)"
   ]
  },
  {
   "cell_type": "markdown",
   "metadata": {
    "deletable": true,
    "editable": true
   },
   "source": [
    "### Cost and Optimizer"
   ]
  },
  {
   "cell_type": "code",
   "execution_count": 4,
   "metadata": {
    "collapsed": false,
    "deletable": true,
    "editable": true
   },
   "outputs": [],
   "source": [
    "with tf.name_scope(\"Cost_and_Optimizer\"):\n",
    "    cost = tf.reduce_sum(tf.square(output - y), name=\"cost\")\n",
    "    optimizer = tf.train.GradientDescentOptimizer(0.01)\n",
    "    train = optimizer.minimize(cost)"
   ]
  },
  {
   "cell_type": "code",
   "execution_count": 5,
   "metadata": {
    "collapsed": true,
    "deletable": true,
    "editable": true
   },
   "outputs": [],
   "source": [
    "x_train = [1, 2, 3, 4]\n",
    "y_train = [0, -1, -2, -3]"
   ]
  },
  {
   "cell_type": "code",
   "execution_count": 6,
   "metadata": {
    "collapsed": false,
    "deletable": true,
    "editable": true
   },
   "outputs": [
    {
     "name": "stdout",
     "output_type": "stream",
     "text": [
      "Current w: [-0.03636408] Current b: [-0.39137843] Current cost: 8.78592\n",
      "Current w: [-0.58813351] Current b: [-0.21093763] Current cost: 0.979607\n",
      "Current w: [-0.67632455] Current b: [ 0.04835474] Current cost: 0.605005\n",
      "Current w: [-0.74563164] Current b: [ 0.25212604] Current cost: 0.37365\n",
      "Current w: [-0.80009836] Current b: [ 0.41226476] Current cost: 0.230766\n",
      "Current w: [-0.8429023] Current b: [ 0.53811365] Current cost: 0.142521\n",
      "Current w: [-0.87654096] Current b: [ 0.63701528] Current cost: 0.0880208\n",
      "Current w: [-0.90297663] Current b: [ 0.7147395] Current cost: 0.0543615\n",
      "Current w: [-0.92375177] Current b: [ 0.77582091] Current cost: 0.0335737\n",
      "Current w: [-0.94007844] Current b: [ 0.82382333] Current cost: 0.020735\n",
      "Current w: [-0.95290917] Current b: [ 0.86154723] Current cost: 0.0128059\n",
      "Current w: [-0.96299255] Current b: [ 0.89119351] Current cost: 0.00790893\n",
      "Current w: [-0.97091675] Current b: [ 0.91449171] Current cost: 0.00488455\n",
      "Current w: [-0.97714424] Current b: [ 0.93280119] Current cost: 0.0030167\n",
      "Current w: [-0.9820382] Current b: [ 0.94719011] Current cost: 0.00186311\n",
      "Current w: [-0.98588419] Current b: [ 0.95849788] Current cost: 0.00115067\n",
      "Current w: [-0.9889068] Current b: [ 0.96738458] Current cost: 0.000710648\n",
      "Current w: [-0.99128217] Current b: [ 0.97436845] Current cost: 0.00043889\n",
      "Current w: [-0.99314886] Current b: [ 0.97985685] Current cost: 0.000271057\n",
      "Current w: [-0.99461591] Current b: [ 0.98417008] Current cost: 0.000167403\n",
      "Current w: [-0.99576879] Current b: [ 0.98755962] Current cost: 0.000103389\n",
      "Current w: [-0.99667478] Current b: [ 0.99022347] Current cost: 6.38525e-05\n",
      "Current w: [-0.99738675] Current b: [ 0.99231684] Current cost: 3.94363e-05\n",
      "Current w: [-0.99794638] Current b: [ 0.99396211] Current cost: 2.43544e-05\n",
      "Current w: [-0.99838609] Current b: [ 0.99525493] Current cost: 1.5042e-05\n",
      "Current w: [-0.99873167] Current b: [ 0.9962709] Current cost: 9.29e-06\n",
      "Current w: [-0.99900323] Current b: [ 0.99706936] Current cost: 5.73763e-06\n",
      "Current w: [-0.99921668] Current b: [ 0.997697] Current cost: 3.54303e-06\n",
      "Current w: [-0.9993844] Current b: [ 0.99819016] Current cost: 2.18822e-06\n",
      "Current w: [-0.99951625] Current b: [ 0.99857765] Current cost: 1.35149e-06\n",
      "Current w: [-0.99961984] Current b: [ 0.99888217] Current cost: 8.34834e-07\n",
      "Current w: [-0.9997012] Current b: [ 0.99912149] Current cost: 5.15518e-07\n",
      "Current w: [-0.99976516] Current b: [ 0.9993096] Current cost: 3.18429e-07\n",
      "Current w: [-0.9998154] Current b: [ 0.99945736] Current cost: 1.96721e-07\n",
      "Current w: [-0.99985498] Current b: [ 0.99957359] Current cost: 1.21431e-07\n",
      "Current w: [-0.99988604] Current b: [ 0.99966496] Current cost: 7.49926e-08\n",
      "Current w: [-0.99991041] Current b: [ 0.99973667] Current cost: 4.63044e-08\n",
      "Current w: [-0.99992961] Current b: [ 0.99979305] Current cost: 2.86117e-08\n",
      "Current w: [-0.99994469] Current b: [ 0.99983734] Current cost: 1.76761e-08\n",
      "Current w: [-0.99995655] Current b: [ 0.99987221] Current cost: 1.09095e-08\n",
      "Current w: [-0.99996585] Current b: [ 0.99989951] Current cost: 6.75438e-09\n",
      "Current w: [-0.99997318] Current b: [ 0.99992102] Current cost: 4.16648e-09\n",
      "Current w: [-0.99997884] Current b: [ 0.99993789] Current cost: 2.57235e-09\n",
      "Current w: [-0.99998337] Current b: [ 0.99995112] Current cost: 1.59587e-09\n",
      "Current w: [-0.99998695] Current b: [ 0.99996156] Current cost: 9.9017e-10\n",
      "Current w: [-0.99998969] Current b: [ 0.99996972] Current cost: 6.12733e-10\n",
      "Current w: [-0.99999189] Current b: [ 0.99997616] Current cost: 3.79714e-10\n",
      "Current w: [-0.99999362] Current b: [ 0.99998128] Current cost: 2.32451e-10\n",
      "Current w: [-0.99999499] Current b: [ 0.99998528] Current cost: 1.44698e-10\n",
      "Current w: [-0.99999613] Current b: [ 0.99998856] Current cost: 8.74429e-11\n"
     ]
    }
   ],
   "source": [
    "tf.summary.scalar(\"Cost\", cost)\n",
    "tf.summary.histogram(\"weights\", w)\n",
    "tf.summary.histogram(\"biases\", b)\n",
    "\n",
    "with tf.Session() as sess:\n",
    "    merged_summary = tf.summary.merge_all()\n",
    "    writer = tf.summary.FileWriter(\"/summaries/2\")\n",
    "    writer.add_graph(sess.graph)\n",
    "    sess.run(init)\n",
    "    for i in range(1000):\n",
    "        sess.run(train, {x: x_train, y: y_train})\n",
    "\n",
    "        \n",
    "        if i%20 == 0:\n",
    "            partial_w, partial_b, partial_cost = sess.run([w, b, cost], {x: x_train, y: y_train})\n",
    "            print(\"Current w: %s Current b: %s Current cost: %s\"%(partial_w, partial_b, partial_cost))\n",
    "            \n",
    "            s = sess.run(merged_summary, {x: x_train, y: y_train})\n",
    "            writer.add_summary(s, i)\n",
    "        \n",
    "    final_w, final_b, final_cost = sess.run([w, b, cost], {x: x_train, y: y_train})\n",
    "    "
   ]
  },
  {
   "cell_type": "markdown",
   "metadata": {
    "collapsed": true,
    "deletable": true,
    "editable": true
   },
   "source": [
    "### Final model"
   ]
  },
  {
   "cell_type": "code",
   "execution_count": 7,
   "metadata": {
    "collapsed": false,
    "deletable": true,
    "editable": true
   },
   "outputs": [
    {
     "name": "stdout",
     "output_type": "stream",
     "text": [
      "Regression model: Y = [-0.9999969] * X + [ 0.99999082]\n",
      "Final cost: 5.69997e-11\n"
     ]
    }
   ],
   "source": [
    "print(\"Regression model: Y = %s * X + %s\"%(final_w, final_b))\n",
    "print(\"Final cost: %s\"%final_cost)"
   ]
  },
  {
   "cell_type": "markdown",
   "metadata": {
    "deletable": true,
    "editable": true
   },
   "source": [
    "### TensorBoard - Graph visualization\n",
    "![title](graph.png)"
   ]
  }
 ],
 "metadata": {
  "kernelspec": {
   "display_name": "Python 3",
   "language": "python",
   "name": "python3"
  },
  "language_info": {
   "codemirror_mode": {
    "name": "ipython",
    "version": 3
   },
   "file_extension": ".py",
   "mimetype": "text/x-python",
   "name": "python",
   "nbconvert_exporter": "python",
   "pygments_lexer": "ipython3",
   "version": "3.5.3"
  }
 },
 "nbformat": 4,
 "nbformat_minor": 2
}
