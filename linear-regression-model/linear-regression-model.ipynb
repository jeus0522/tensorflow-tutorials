{
 "cells": [
  {
   "cell_type": "markdown",
   "metadata": {},
   "source": [
    "# Linear regression model in TensorFlow\n",
    "This document builds and train a linear regression model, while trying to show the basic usage of TensorFlow"
   ]
  },
  {
   "cell_type": "code",
   "execution_count": 21,
   "metadata": {
    "collapsed": true
   },
   "outputs": [],
   "source": [
    "import tensorflow as tf"
   ]
  },
  {
   "cell_type": "markdown",
   "metadata": {},
   "source": [
    "### Create placeholders for inputs and labels"
   ]
  },
  {
   "cell_type": "code",
   "execution_count": 22,
   "metadata": {
    "collapsed": false
   },
   "outputs": [],
   "source": [
    "# Inputs\n",
    "x = tf.placeholder(dtype=tf.float32)\n",
    "# Labels\n",
    "y = tf.placeholder(dtype=tf.float32)"
   ]
  },
  {
   "cell_type": "markdown",
   "metadata": {},
   "source": [
    "### Create Variable tensors for weights and bias\n",
    "This tensors are initialized with random values"
   ]
  },
  {
   "cell_type": "code",
   "execution_count": 23,
   "metadata": {
    "collapsed": true
   },
   "outputs": [],
   "source": [
    "w = tf.Variable(tf.random_normal([1]), dtype=tf.float32)\n",
    "b = tf.Variable(tf.random_normal([1]), dtype=tf.float32)\n",
    "init = tf.global_variables_initializer()"
   ]
  },
  {
   "cell_type": "markdown",
   "metadata": {},
   "source": [
    "### Building the model and cost function"
   ]
  },
  {
   "cell_type": "code",
   "execution_count": 24,
   "metadata": {
    "collapsed": true
   },
   "outputs": [],
   "source": [
    "linear_model = w * x + b\n",
    "cost = tf.reduce_sum(tf.square(linear_model - y))"
   ]
  },
  {
   "cell_type": "markdown",
   "metadata": {},
   "source": [
    "### Optimizer"
   ]
  },
  {
   "cell_type": "code",
   "execution_count": 25,
   "metadata": {
    "collapsed": true
   },
   "outputs": [],
   "source": [
    "optimizer = tf.train.GradientDescentOptimizer(0.01)\n",
    "train = optimizer.minimize(cost)"
   ]
  },
  {
   "cell_type": "code",
   "execution_count": 26,
   "metadata": {
    "collapsed": true
   },
   "outputs": [],
   "source": [
    "x_train = [1, 2, 3, 4]\n",
    "y_train = [0, -1, -2, -3]"
   ]
  },
  {
   "cell_type": "code",
   "execution_count": 31,
   "metadata": {
    "collapsed": false
   },
   "outputs": [
    {
     "name": "stdout",
     "output_type": "stream",
     "text": [
      "Current w: [-0.51872212] Current b: [ 0.79855442] Current cost: 5.17215\n",
      "Current w: [-0.91252077] Current b: [ 0.7428003] Current cost: 0.0441926\n",
      "Current w: [-0.9312523] Current b: [ 0.79787338] Current cost: 0.0272932\n",
      "Current w: [-0.94597292] Current b: [ 0.84115374] Current cost: 0.0168563\n",
      "Current w: [-0.95754147] Current b: [ 0.87516671] Current cost: 0.0104104\n",
      "Current w: [-0.9666329] Current b: [ 0.90189672] Current cost: 0.00642948\n",
      "Current w: [-0.97377765] Current b: [ 0.92290312] Current cost: 0.00397084\n",
      "Current w: [-0.97939247] Current b: [ 0.9394114] Current cost: 0.00245239\n",
      "Current w: [-0.98380506] Current b: [ 0.95238501] Current cost: 0.00151459\n",
      "Current w: [-0.98727286] Current b: [ 0.96258068] Current cost: 0.000935406\n",
      "Current w: [-0.98999804] Current b: [ 0.97059304] Current cost: 0.000577706\n",
      "Current w: [-0.9921397] Current b: [ 0.97688979] Current cost: 0.000356793\n",
      "Current w: [-0.99382281] Current b: [ 0.98183829] Current cost: 0.000220354\n",
      "Current w: [-0.9951455] Current b: [ 0.98572719] Current cost: 0.000136089\n",
      "Current w: [-0.99618495] Current b: [ 0.9887833] Current cost: 8.40503e-05\n",
      "Current w: [-0.99700189] Current b: [ 0.99118513] Current cost: 5.19087e-05\n",
      "Current w: [-0.99764383] Current b: [ 0.99307251] Current cost: 3.20597e-05\n",
      "Current w: [-0.99814832] Current b: [ 0.99455583] Current cost: 1.98008e-05\n",
      "Current w: [-0.99854481] Current b: [ 0.99572152] Current cost: 1.22289e-05\n",
      "Current w: [-0.99885637] Current b: [ 0.99663758] Current cost: 7.55286e-06\n",
      "Current w: [-0.99910128] Current b: [ 0.99735755] Current cost: 4.66466e-06\n",
      "Current w: [-0.99929368] Current b: [ 0.99792325] Current cost: 2.88137e-06\n",
      "Current w: [-0.9994449] Current b: [ 0.99836797] Current cost: 1.77952e-06\n",
      "Current w: [-0.99956375] Current b: [ 0.99871737] Current cost: 1.09893e-06\n",
      "Current w: [-0.99965721] Current b: [ 0.99899209] Current cost: 6.78739e-07\n",
      "Current w: [-0.99973059] Current b: [ 0.99920791] Current cost: 4.19142e-07\n",
      "Current w: [-0.99978828] Current b: [ 0.99937755] Current cost: 2.5883e-07\n",
      "Current w: [-0.99983364] Current b: [ 0.99951088] Current cost: 1.59861e-07\n",
      "Current w: [-0.99986923] Current b: [ 0.99961555] Current cost: 9.87758e-08\n",
      "Current w: [-0.99989724] Current b: [ 0.99969786] Current cost: 6.09853e-08\n",
      "Current w: [-0.99991924] Current b: [ 0.99976254] Current cost: 3.76702e-08\n",
      "Current w: [-0.99993652] Current b: [ 0.99981338] Current cost: 2.32519e-08\n",
      "Current w: [-0.99995011] Current b: [ 0.99985331] Current cost: 1.4387e-08\n",
      "Current w: [-0.99996072] Current b: [ 0.99988461] Current cost: 8.89689e-09\n",
      "Current w: [-0.99996912] Current b: [ 0.99990928] Current cost: 5.50605e-09\n",
      "Current w: [-0.99997574] Current b: [ 0.99992871] Current cost: 3.39513e-09\n",
      "Current w: [-0.99998093] Current b: [ 0.99994391] Current cost: 2.10193e-09\n",
      "Current w: [-0.99998504] Current b: [ 0.99995595] Current cost: 1.29205e-09\n",
      "Current w: [-0.9999882] Current b: [ 0.99996537] Current cost: 8.01609e-10\n",
      "Current w: [-0.99999076] Current b: [ 0.99997282] Current cost: 4.9339e-10\n",
      "Current w: [-0.99999273] Current b: [ 0.99997866] Current cost: 3.02606e-10\n",
      "Current w: [-0.99999428] Current b: [ 0.99998325] Current cost: 1.87757e-10\n",
      "Current w: [-0.99999553] Current b: [ 0.99998689] Current cost: 1.14898e-10\n",
      "Current w: [-0.99999648] Current b: [ 0.99998963] Current cost: 7.26921e-11\n",
      "Current w: [-0.99999726] Current b: [ 0.99999201] Current cost: 4.19789e-11\n",
      "Current w: [-0.99999785] Current b: [ 0.99999362] Current cost: 2.71179e-11\n",
      "Current w: [-0.99999821] Current b: [ 0.99999481] Current cost: 1.79661e-11\n",
      "Current w: [-0.99999863] Current b: [ 0.99999601] Current cost: 1.03455e-11\n",
      "Current w: [-0.99999905] Current b: [ 0.99999708] Current cost: 5.68789e-12\n",
      "Current w: [-0.99999911] Current b: [ 0.99999744] Current cost: 4.20641e-12\n"
     ]
    }
   ],
   "source": [
    "with tf.Session() as sess:\n",
    "    sess.run(init)\n",
    "    for i in range(1000):\n",
    "        sess.run(train, {x: x_train, y: y_train})\n",
    "        \n",
    "        if i%20 == 0:\n",
    "            partial_w, partial_b, partial_cost = sess.run([w, b, cost], {x: x_train, y: y_train})\n",
    "            print(\"Current w: %s Current b: %s Current cost: %s\"%(partial_w, partial_b, partial_cost))\n",
    "        \n",
    "    final_w, final_b, final_cost = sess.run([w, b, cost], {x: x_train, y: y_train})"
   ]
  },
  {
   "cell_type": "markdown",
   "metadata": {
    "collapsed": true
   },
   "source": [
    "### Final model"
   ]
  },
  {
   "cell_type": "code",
   "execution_count": 33,
   "metadata": {
    "collapsed": false
   },
   "outputs": [
    {
     "name": "stdout",
     "output_type": "stream",
     "text": [
      "Regression model: Y = [-0.99999911] * X + [ 0.99999744]\n",
      "Final cost: 4.20641e-12\n"
     ]
    }
   ],
   "source": [
    "print(\"Regression model: Y = %s * X + %s\"%(final_w, final_b))\n",
    "print(\"Final cost: %s\"%final_cost)"
   ]
  },
  {
   "cell_type": "code",
   "execution_count": null,
   "metadata": {
    "collapsed": true
   },
   "outputs": [],
   "source": []
  }
 ],
 "metadata": {
  "kernelspec": {
   "display_name": "Python 3",
   "language": "python",
   "name": "python3"
  },
  "language_info": {
   "codemirror_mode": {
    "name": "ipython",
    "version": 3
   },
   "file_extension": ".py",
   "mimetype": "text/x-python",
   "name": "python",
   "nbconvert_exporter": "python",
   "pygments_lexer": "ipython3",
   "version": "3.5.3"
  }
 },
 "nbformat": 4,
 "nbformat_minor": 2
}
