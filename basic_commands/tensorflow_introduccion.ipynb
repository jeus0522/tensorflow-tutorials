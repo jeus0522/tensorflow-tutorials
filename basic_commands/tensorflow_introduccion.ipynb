{
 "cells": [
  {
   "cell_type": "markdown",
   "metadata": {},
   "source": [
    "# Introducción a TensorFlow\n",
    "El primer paso para escribir programas utilizando TensorFlow es importar el módulo. Por convención, se importa al mismo en la variable `tf`."
   ]
  },
  {
   "cell_type": "code",
   "execution_count": 1,
   "metadata": {},
   "outputs": [],
   "source": [
    "import tensorflow as tf"
   ]
  },
  {
   "cell_type": "markdown",
   "metadata": {},
   "source": [
    "Se puede considerar que todo programa escrito con TensorFlow consta de dos partes:\n",
    "1. Construcción de la **gráfica computacional** ([tf.Graph](https://www.tensorflow.org/api_docs/python/tf/Graph)).\n",
    "2. Cálculo de la **gráfica computacional** (utilizando una [tf.Session](https://www.tensorflow.org/api_docs/python/tf/Session)).\n",
    "\n",
    "## Gráfica computacional\n",
    "Es una serie de **operaciones** de TensorFlow formando una gráfica. Esta está compuesta de objetos de dos tipos:\n",
    "- **[Operaciones](https://www.tensorflow.org/api_docs/python/tf/Operation)**: Son los nodos de la gráfica. Representan cálculos a realizar sobre **tensores**. Producen a su vez nuevos **tensores**.\n",
    "- **[Tensores](https://www.tensorflow.org/api_docs/python/tf/Tensor)**: Son las líneas de la gráfica. Outputs de las **operaciones**. Representan los valores que fluyen por la gráfica.\n",
    "\n",
    "<div style=\"margin-left: 25px;margin-right: 150px;background-color: coral; padding: 10px\">**Nota**: Los tensores no tienen valores, solo son llaves para acceder a elementos de la gráfica computacional.</div>\n",
    "\n",
    "### Creando una gráfica computacional\n",
    "Para crear una gráfica computacional debo crear operaciones que produzcan tensores. La operación más básica es [tf.constant](https://www.tensorflow.org/api_docs/python/tf/constant). Esta requiere que se le pase un valor. Cuando se compute esta operación, producirá un tensor con el valor que se pasó a la misma."
   ]
  },
  {
   "cell_type": "code",
   "execution_count": 15,
   "metadata": {},
   "outputs": [
    {
     "name": "stdout",
     "output_type": "stream",
     "text": [
      "Tensor(\"Const:0\", shape=(), dtype=float32)\n",
      "Tensor(\"Const_1:0\", shape=(), dtype=float32)\n"
     ]
    },
    {
     "data": {
      "text/plain": [
       "{'_consumers': [],\n",
       " '_dtype': tf.float32,\n",
       " '_handle_data': None,\n",
       " '_op': <tf.Operation 'Const' type=Const>,\n",
       " '_shape': TensorShape([]),\n",
       " '_value_index': 0}"
      ]
     },
     "execution_count": 15,
     "metadata": {},
     "output_type": "execute_result"
    }
   ],
   "source": [
    "# Reseteamos la gráfica actual para eliminar los tensores creados anteriormente\n",
    "tf.reset_default_graph()\n",
    "\n",
    "# Tensor con shape=() y valor constante de 3\n",
    "a = tf.constant(3.0)\n",
    "b = tf.constant(4.0)\n",
    "print(a)\n",
    "print(b)\n",
    "\n",
    "# Tensor attributes \n",
    "a.__dict__"
   ]
  },
  {
   "cell_type": "markdown",
   "metadata": {},
   "source": [
    "Se puede observar que al imprimir las variables, no obtenemos los valores `3.0` y `4.0`. Esto es porque lo unico que se hizo hasta ahora fue construir la gráfica. Estos objetos **Tensor** solo representan los resultados de las operaciones que se van a ejecutar.\n",
    "\n",
    "Al crear operaciones, estas se guardan en la gráfica con un nombre único, que es independiente al nombre de los objetos en Python (`a`, `b`).\n",
    "\n",
    "Vamos a crear una nueva operación en la gráfica, que consuma los tensores producidos por las operaciones ya creadas."
   ]
  },
  {
   "cell_type": "code",
   "execution_count": 16,
   "metadata": {},
   "outputs": [
    {
     "name": "stdout",
     "output_type": "stream",
     "text": [
      "Tensor(\"add:0\", shape=(), dtype=float32)\n"
     ]
    }
   ],
   "source": [
    "simple_sum = a + b\n",
    "print(simple_sum)"
   ]
  },
  {
   "cell_type": "markdown",
   "metadata": {},
   "source": [
    "Creamos una operación que suma los tensores obtenidos de las operaciones tf.constant. Nuevamente vemos que el tensor no posee un valor, porque todavía no ejecutamos la gráfica. TensorFlow automáticamente añade la operación a la gráfica y relaciona tensores con operaciones.\n",
    "\n",
    "Como se puede ver, los atributos del tensor `a` cambiaron:"
   ]
  },
  {
   "cell_type": "code",
   "execution_count": 17,
   "metadata": {},
   "outputs": [
    {
     "data": {
      "text/plain": [
       "{'_consumers': [<tf.Operation 'add' type=Add>],\n",
       " '_dtype': tf.float32,\n",
       " '_handle_data': None,\n",
       " '_op': <tf.Operation 'Const' type=Const>,\n",
       " '_shape': TensorShape([]),\n",
       " '_value_index': 0}"
      ]
     },
     "execution_count": 17,
     "metadata": {},
     "output_type": "execute_result"
    }
   ],
   "source": [
    "# Tensor attributes \n",
    "a.__dict__"
   ]
  },
  {
   "cell_type": "markdown",
   "metadata": {},
   "source": [
    "### Visualizando la gráfica con TensorBoard"
   ]
  },
  {
   "cell_type": "markdown",
   "metadata": {},
   "source": [
    "TensorBoard es una herramienta de TensorFlow con muchas utilidades. Una de ellas es visualizar la gráfica computacional con la que se creó. Para utilizar está funcionalidad, primero debemos crear y guardar un archivo con la información que necesita TensorBoard. Para esto debemos agregar en nuestro programa:"
   ]
  },
  {
   "cell_type": "code",
   "execution_count": 18,
   "metadata": {},
   "outputs": [],
   "source": [
    "writer = tf.summary.FileWriter('.')\n",
    "writer.add_graph(tf.get_default_graph())"
   ]
  },
  {
   "cell_type": "markdown",
   "metadata": {},
   "source": [
    "Estas lineas de código crean un archivo en la carpeta del programa actual. Para utilizar TensorBoard con dicho archivo debemos abrir una consola, navegar hasta la carpeta del archivo y activar el ambiente de trabajo del programa actual (que tiene instalado TensorFlow). Debemos ingresar el comando:\n",
    "```bash\n",
    "tensorboard --logdir .\n",
    "```\n",
    "Esto comenzará a ejecutar TensorBoard. Para visualizarlo debemos abrir en el explorador, la dirección en la cuál se está ejecutando, provista en la consola luego de ejecutar el comando (ej: `http://localhost:6006/`).\n",
    "\n",
    "La gráfica que realizamos hasta el momento, en TensorBoard, se ve de esta forma:\n",
    "\n",
    "![Simple sum graph](simple_sum.png \"Simple sum graph\")\n"
   ]
  },
  {
   "cell_type": "markdown",
   "metadata": {},
   "source": [
    "### Dandole nombres a los tensores\n",
    "Se observa que al crear los anteriores tensores, TensorFlow les asigna un nombre (\"Const\", \"Const_1\" y \"add\") que son los que usa para mostrar en la gráfica. Podemos darle nuestros propios nombres a los tensores utilizando el atributo `name` de la mayoria de las operaciones."
   ]
  },
  {
   "cell_type": "code",
   "execution_count": 29,
   "metadata": {},
   "outputs": [
    {
     "name": "stdout",
     "output_type": "stream",
     "text": [
      "Tensor(\"input:0\", shape=(), dtype=float32)\n",
      "Tensor(\"input_1:0\", shape=(), dtype=float32)\n",
      "Tensor(\"simple_sum:0\", shape=(), dtype=float32)\n"
     ]
    }
   ],
   "source": [
    "# Reseteamos la gráfica actual para eliminar los tensores creados anteriormente\n",
    "tf.reset_default_graph()\n",
    "\n",
    "a = tf.constant(3.0, dtype=tf.float32, name=\"input\")\n",
    "b = tf.constant(4.0, dtype=tf.float32, name=\"input\")\n",
    "\n",
    "# simple_sum = a + b\n",
    "simple_sum = tf.add(a, b, name=\"simple_sum\")\n",
    "print(a)\n",
    "print(b)\n",
    "print(simple_sum)"
   ]
  },
  {
   "cell_type": "code",
   "execution_count": 30,
   "metadata": {},
   "outputs": [],
   "source": [
    "writer = tf.summary.FileWriter('.')\n",
    "writer.add_graph(tf.get_default_graph())"
   ]
  },
  {
   "cell_type": "markdown",
   "metadata": {},
   "source": [
    "Nueva gráfica de TensorBoard:\n",
    "\n",
    "![Simple sum graph_names](simple_sum_named.png \"Simple sum with names graph\")\n",
    "\n",
    "Otro punto a destacar con respecto a los nombres, es que TensorFlow nunca va a permitir dos tensores distitos con el mismo nombre. En el ejemplo `a` y `b` utilizaron el mismo nombre, pero TensorFlow le agregó un \"_1\" para distinguiro."
   ]
  },
  {
   "cell_type": "markdown",
   "metadata": {},
   "source": [
    "## Cálculo de la gráfica computacional\n",
    "Para que los tensores nos devuelvan un valor, debemos ejecutar los cálculos de la gráfica utilizando un objeto [tf.Session](https://www.tensorflow.org/api_docs/python/tf/Session) (sesión). Este objeto calcula el valor del tensor de salida de cualquier operación, o nodo, de la gráfica, y todos los anteriores. Para esto, utilizamos la función `run` de la sesión.\n",
    "\n",
    "Vamos a obtener el valor de los tensores de nuestra geáfica:"
   ]
  },
  {
   "cell_type": "code",
   "execution_count": 31,
   "metadata": {},
   "outputs": [
    {
     "name": "stdout",
     "output_type": "stream",
     "text": [
      "3.0\n",
      "4.0\n",
      "7.0\n"
     ]
    }
   ],
   "source": [
    "# Utilización de tf.Session por convención\n",
    "with tf.Session() as sess:\n",
    "    print(sess.run(a))\n",
    "    print(sess.run(b))\n",
    "    print(sess.run(simple_sum))"
   ]
  },
  {
   "cell_type": "markdown",
   "metadata": {},
   "source": [
    "En la misma ejecución de [tf.Session.run](https://www.tensorflow.org/api_docs/python/tf/InteractiveSession#run), puedo obtener el valor de varios tensores de la gráfica:"
   ]
  },
  {
   "cell_type": "code",
   "execution_count": 32,
   "metadata": {},
   "outputs": [
    {
     "name": "stdout",
     "output_type": "stream",
     "text": [
      "[3.0, 4.0, 7.0]\n"
     ]
    }
   ],
   "source": [
    "with tf.Session() as sess:\n",
    "    print(sess.run([a, b, simple_sum]))"
   ]
  },
  {
   "cell_type": "markdown",
   "metadata": {},
   "source": [
    "Algunas operaciones de TensorFlow, devuelven operaciones en lugar de tensores. Cuando ejecutamos una operación de este tipo con **tf.Session.run**, esta nos devuelve `None`. Ejecutar una una de estas operaciones tiene la finalidad de realizar alguna acción, y no obtener un valor. Algunos ejemplos son las operaciones de inicialización y entrenamiento."
   ]
  },
  {
   "cell_type": "markdown",
   "metadata": {},
   "source": [
    "### Alimentación de datos a la gráfica\n",
    "Para poder utilizar la gráfica con distintos valores de entrada, y obtener distintos valores de salida, debemos usar el parametro `feed_dict` de la función `tf.Session.run`. Este recibe un diccionario con el nombre del tensor al que le quiero asignar un valor, y el valor a asignar."
   ]
  },
  {
   "cell_type": "code",
   "execution_count": 33,
   "metadata": {},
   "outputs": [
    {
     "name": "stdout",
     "output_type": "stream",
     "text": [
      "3.0\n"
     ]
    }
   ],
   "source": [
    "with tf.Session() as sess:\n",
    "    print(sess.run(simple_sum, feed_dict={a: 1.0, b: 2.0}))"
   ]
  },
  {
   "cell_type": "markdown",
   "metadata": {},
   "source": [
    "### Utilización de Placeholders\n",
    "Las operaciones [tf.placeholder](https://www.tensorflow.org/api_docs/python/tf/placeholder) sirven como punto de entrada de datos en una gráfica. El cálculo de una operación con `tf.Session.run` que dependa de un placeholder, requiere que se utilice el diccionario de alimentación con los valores que deben asumir los tensores generados por las operaciones de placeholders.`"
   ]
  },
  {
   "cell_type": "code",
   "execution_count": 34,
   "metadata": {},
   "outputs": [
    {
     "name": "stdout",
     "output_type": "stream",
     "text": [
      "Tensor(\"input_x:0\", dtype=float32)\n",
      "Tensor(\"input_y:0\", dtype=float32)\n",
      "Tensor(\"add:0\", dtype=float32)\n"
     ]
    }
   ],
   "source": [
    "# Reseteamos la gráfica actual para eliminar los tensores creados anteriormente\n",
    "tf.reset_default_graph()\n",
    "\n",
    "x = tf.placeholder(dtype=tf.float32, name=\"input_x\")\n",
    "y = tf.placeholder(dtype=tf.float32, name=\"input_y\")\n",
    "z = x + y\n",
    "\n",
    "print(x)\n",
    "print(y)\n",
    "print(z)"
   ]
  },
  {
   "cell_type": "code",
   "execution_count": 35,
   "metadata": {},
   "outputs": [],
   "source": [
    "writer = tf.summary.FileWriter('.')\n",
    "writer.add_graph(tf.get_default_graph())"
   ]
  },
  {
   "cell_type": "markdown",
   "metadata": {},
   "source": [
    "![Simple sum graph_placeholders](simple_sum_placeholders.png \"Simple sum with names graph\")"
   ]
  },
  {
   "cell_type": "code",
   "execution_count": 36,
   "metadata": {},
   "outputs": [
    {
     "name": "stdout",
     "output_type": "stream",
     "text": [
      "7.0\n"
     ]
    }
   ],
   "source": [
    "with tf.Session() as sess:\n",
    "    print(sess.run(z, feed_dict={x: 2.0, y: 5.0}))"
   ]
  },
  {
   "cell_type": "code",
   "execution_count": null,
   "metadata": {},
   "outputs": [],
   "source": []
  },
  {
   "cell_type": "code",
   "execution_count": null,
   "metadata": {},
   "outputs": [],
   "source": []
  },
  {
   "cell_type": "code",
   "execution_count": 14,
   "metadata": {},
   "outputs": [
    {
     "data": {
      "text/plain": [
       "{'_caching_device': None,\n",
       " '_initial_value': <tf.Tensor 'random_normal:0' shape=(1,) dtype=float32>,\n",
       " '_initializer_op': <tf.Operation 'w/Assign' type=Assign>,\n",
       " '_save_slice_info': None,\n",
       " '_snapshot': <tf.Tensor 'w/read:0' shape=(1,) dtype=float32>,\n",
       " '_variable': <tf.Tensor 'w:0' shape=(1,) dtype=float32_ref>}"
      ]
     },
     "execution_count": 14,
     "metadata": {},
     "output_type": "execute_result"
    }
   ],
   "source": [
    "# Reseteamos la gráfica actual para eliminar los tensores creados anteriormente\n",
    "tf.reset_default_graph()\n",
    "\n",
    "x = tf.placeholder(dtype=tf.float32, name=\"x\")\n",
    "w = tf.Variable(tf.random_normal([1]), dtype=tf.float32, name=\"w\")\n",
    "\n",
    "y = x * w\n",
    "w.__dict__"
   ]
  },
  {
   "cell_type": "code",
   "execution_count": 15,
   "metadata": {},
   "outputs": [],
   "source": [
    "writer = tf.summary.FileWriter('.')\n",
    "writer.add_graph(tf.get_default_graph())"
   ]
  },
  {
   "cell_type": "code",
   "execution_count": null,
   "metadata": {},
   "outputs": [],
   "source": [
    "\n",
    "\n",
    "with tf.Session() as sess:\n",
    "    "
   ]
  },
  {
   "cell_type": "markdown",
   "metadata": {},
   "source": [
    "## Referencias\n",
    " - https://www.tensorflow.org/programmers_guide/low_level_intro\n"
   ]
  }
 ],
 "metadata": {
  "kernelspec": {
   "display_name": "Python 3",
   "language": "python",
   "name": "python3"
  },
  "language_info": {
   "codemirror_mode": {
    "name": "ipython",
    "version": 3
   },
   "file_extension": ".py",
   "mimetype": "text/x-python",
   "name": "python",
   "nbconvert_exporter": "python",
   "pygments_lexer": "ipython3",
   "version": "3.6.3"
  }
 },
 "nbformat": 4,
 "nbformat_minor": 2
}
